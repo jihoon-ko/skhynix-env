{
 "cells": [
  {
   "cell_type": "code",
   "execution_count": 5,
   "metadata": {},
   "outputs": [],
   "source": [
    "import snap\n",
    "\n",
    "H = snap.TIntStrH()\n",
    "H.AddDat(1, \"blue\")\n",
    "H.AddDat(2, \"blue\")\n",
    "H.AddDat(3, \"red\")\n",
    "H.AddDat(4, \"red\")\n",
    "\n",
    "Graph = snap.GenRndGnm(snap.PNGraph, 4, 6)\n",
    "snap.SaveGViz(Graph, \"Graph1.dot\", \"Directed Random Graph\", True, H)\n",
    "\n",
    "UGraph = snap.GenRndGnm(snap.PUNGraph, 4, 6)\n",
    "snap.SaveGViz(UGraph, \"Graph2.dot\", \"Undirected Random Graph\", True, H)\n",
    "\n",
    "Network = snap.GenRndGnm(snap.PNEANet, 4, 6)\n",
    "snap.SaveGViz(Network, \"Graph3.dot\", \"Directed Random Network with Attributes\", True, H)"
   ]
  },
  {
   "cell_type": "code",
   "execution_count": 6,
   "metadata": {},
   "outputs": [
    {
     "data": {
      "text/plain": [
       "'\\n\\n    NumPy (>= 1.15.0) provides matrix representation of graphs and is used in some graph algorithms for high-performance matrix computations.\\n    SciPy (>= 1.1.0) provides sparse matrix representation of graphs and many numerical scientific tools.\\n    pandas (>= 0.23.3) provides a DataFrame, which is a tabular data structure with labeled axes.\\n    Matplotlib (>= 2.2.2) provides flexible drawing of graphs.\\n    PyGraphviz (>= 1.5) and pydot (>= 1.2.4) provide graph drawing and graph layout algorithms via GraphViz.\\n    PyYAML provides YAML format reading and writing.\\n    gdal provides shapefile format reading and writing.\\n    lxml used for GraphML XML format.\\n'"
      ]
     },
     "execution_count": 6,
     "metadata": {},
     "output_type": "execute_result"
    }
   ],
   "source": [
    "\"\"\"\n",
    "\n",
    "    NumPy (>= 1.15.0) provides matrix representation of graphs and is used in some graph algorithms for high-performance matrix computations.\n",
    "    SciPy (>= 1.1.0) provides sparse matrix representation of graphs and many numerical scientific tools.\n",
    "    pandas (>= 0.23.3) provides a DataFrame, which is a tabular data structure with labeled axes.\n",
    "    Matplotlib (>= 2.2.2) provides flexible drawing of graphs.\n",
    "    PyGraphviz (>= 1.5) and pydot (>= 1.2.4) provide graph drawing and graph layout algorithms via GraphViz.\n",
    "    PyYAML provides YAML format reading and writing.\n",
    "    gdal provides shapefile format reading and writing.\n",
    "    lxml used for GraphML XML format.\n",
    "\"\"\""
   ]
  },
  {
   "cell_type": "code",
   "execution_count": 4,
   "metadata": {},
   "outputs": [
    {
     "ename": "ImportError",
     "evalue": "No module named gdal",
     "output_type": "error",
     "traceback": [
      "\u001b[0;31m---------------------------------------------------------------------------\u001b[0m",
      "\u001b[0;31mImportError\u001b[0m                               Traceback (most recent call last)",
      "\u001b[0;32m<ipython-input-4-691902495454>\u001b[0m in \u001b[0;36m<module>\u001b[0;34m()\u001b[0m\n\u001b[1;32m      5\u001b[0m \u001b[0;31m# import pygraphviz\u001b[0m\u001b[0;34m\u001b[0m\u001b[0;34m\u001b[0m\u001b[0m\n\u001b[1;32m      6\u001b[0m \u001b[0;32mimport\u001b[0m \u001b[0myaml\u001b[0m\u001b[0;34m\u001b[0m\u001b[0m\n\u001b[0;32m----> 7\u001b[0;31m \u001b[0;32mimport\u001b[0m \u001b[0mgdal\u001b[0m\u001b[0;34m\u001b[0m\u001b[0m\n\u001b[0m\u001b[1;32m      8\u001b[0m \u001b[0;32mimport\u001b[0m \u001b[0mlxml\u001b[0m\u001b[0;34m\u001b[0m\u001b[0m\n",
      "\u001b[0;31mImportError\u001b[0m: No module named gdal"
     ]
    }
   ],
   "source": [
    "import numpy\n",
    "import scipy\n",
    "import pandas\n",
    "import matplotlib\n",
    "# import pygraphviz\n",
    "import yaml\n",
    "import gdal\n",
    "import lxml"
   ]
  },
  {
   "cell_type": "code",
   "execution_count": null,
   "metadata": {},
   "outputs": [],
   "source": []
  }
 ],
 "metadata": {
  "kernelspec": {
   "display_name": "Python 2",
   "language": "python",
   "name": "python2"
  },
  "language_info": {
   "codemirror_mode": {
    "name": "ipython",
    "version": 2
   },
   "file_extension": ".py",
   "mimetype": "text/x-python",
   "name": "python",
   "nbconvert_exporter": "python",
   "pygments_lexer": "ipython2",
   "version": "2.7.12"
  }
 },
 "nbformat": 4,
 "nbformat_minor": 2
}
